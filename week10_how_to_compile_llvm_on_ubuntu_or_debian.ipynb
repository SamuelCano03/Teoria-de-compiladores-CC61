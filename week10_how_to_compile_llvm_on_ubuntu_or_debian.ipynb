{
  "cells": [
    {
      "cell_type": "code",
      "execution_count": 5,
      "metadata": {
        "id": "v634yAQJ1Gi8"
      },
      "outputs": [],
      "source": [
        "!sudo apt-get install llvm-15 llvm-15-dev llvm-15-doc llvm-15-examples llvm-15-linker-tools llvm-15-runtime llvm-15-tools &> /dev/null"
      ]
    },
    {
      "cell_type": "code",
      "source": [
        "%%file fibonacci.cpp\n",
        "//===--- examples/Fibonacci/fibonacci.cpp - An example use of the JIT -----===//\n",
        "//\n",
        "// Part of the LLVM Project, under the Apache License v2.0 with LLVM Exceptions.\n",
        "// See https://llvm.org/LICENSE.txt for license information.\n",
        "// SPDX-License-Identifier: Apache-2.0 WITH LLVM-exception\n",
        "//\n",
        "//===----------------------------------------------------------------------===//\n",
        "//\n",
        "// This small program provides an example of how to build quickly a small module\n",
        "// with function Fibonacci and execute it with the JIT.\n",
        "//\n",
        "// The goal of this snippet is to create in the memory the LLVM module\n",
        "// consisting of one function as follow:\n",
        "//\n",
        "//   int fib(int x) {\n",
        "//     if(x<=2) return 1;\n",
        "//     return fib(x-1)+fib(x-2);\n",
        "//   }\n",
        "//\n",
        "// Once we have this, we compile the module via JIT, then execute the `fib'\n",
        "// function and return result to a driver, i.e. to a \"host program\".\n",
        "//\n",
        "//===----------------------------------------------------------------------===//\n",
        "\n",
        "#include \"llvm/ADT/APInt.h\"\n",
        "#include \"llvm/IR/Verifier.h\"\n",
        "#include \"llvm/ExecutionEngine/ExecutionEngine.h\"\n",
        "#include \"llvm/ExecutionEngine/GenericValue.h\"\n",
        "#include \"llvm/ExecutionEngine/MCJIT.h\"\n",
        "#include \"llvm/IR/Argument.h\"\n",
        "#include \"llvm/IR/BasicBlock.h\"\n",
        "#include \"llvm/IR/Constants.h\"\n",
        "#include \"llvm/IR/DerivedTypes.h\"\n",
        "#include \"llvm/IR/Function.h\"\n",
        "#include \"llvm/IR/InstrTypes.h\"\n",
        "#include \"llvm/IR/Instructions.h\"\n",
        "#include \"llvm/IR/LLVMContext.h\"\n",
        "#include \"llvm/IR/Module.h\"\n",
        "#include \"llvm/IR/Type.h\"\n",
        "#include \"llvm/Support/Casting.h\"\n",
        "#include \"llvm/Support/TargetSelect.h\"\n",
        "#include \"llvm/Support/raw_ostream.h\"\n",
        "#include <algorithm>\n",
        "#include <cstdlib>\n",
        "#include <memory>\n",
        "#include <string>\n",
        "#include <vector>\n",
        "\n",
        "using namespace llvm;\n",
        "\n",
        "static Function *CreateFibFunction(Module *M, LLVMContext &Context) {\n",
        "  // Create the fib function and insert it into module M. This function is said\n",
        "  // to return an int and take an int parameter.\n",
        "  FunctionType *FibFTy = FunctionType::get(Type::getInt32Ty(Context),\n",
        "                                           {Type::getInt32Ty(Context)}, false);\n",
        "  Function *FibF =\n",
        "      Function::Create(FibFTy, Function::ExternalLinkage, \"fib\", M);\n",
        "\n",
        "  // Add a basic block to the function.\n",
        "  BasicBlock *BB = BasicBlock::Create(Context, \"EntryBlock\", FibF);\n",
        "\n",
        "  // Get pointers to the constants.\n",
        "  Value *One = ConstantInt::get(Type::getInt32Ty(Context), 1);\n",
        "  Value *Two = ConstantInt::get(Type::getInt32Ty(Context), 2);\n",
        "\n",
        "  // Get pointer to the integer argument of the add1 function...\n",
        "  Argument *ArgX = &*FibF->arg_begin(); // Get the arg.\n",
        "  ArgX->setName(\"AnArg\");            // Give it a nice symbolic name for fun.\n",
        "\n",
        "  // Create the true_block.\n",
        "  BasicBlock *RetBB = BasicBlock::Create(Context, \"return\", FibF);\n",
        "  // Create an exit block.\n",
        "  BasicBlock* RecurseBB = BasicBlock::Create(Context, \"recurse\", FibF);\n",
        "\n",
        "  // Create the \"if (arg <= 2) goto exitbb\"\n",
        "  Value *CondInst = new ICmpInst(*BB, ICmpInst::ICMP_SLE, ArgX, Two, \"cond\");\n",
        "  BranchInst::Create(RetBB, RecurseBB, CondInst, BB);\n",
        "\n",
        "  // Create: ret int 1\n",
        "  ReturnInst::Create(Context, One, RetBB);\n",
        "\n",
        "  // create fib(x-1)\n",
        "  Value *Sub = BinaryOperator::CreateSub(ArgX, One, \"arg\", RecurseBB);\n",
        "  CallInst *CallFibX1 = CallInst::Create(FibF, Sub, \"fibx1\", RecurseBB);\n",
        "  CallFibX1->setTailCall();\n",
        "\n",
        "  // create fib(x-2)\n",
        "  Sub = BinaryOperator::CreateSub(ArgX, Two, \"arg\", RecurseBB);\n",
        "  CallInst *CallFibX2 = CallInst::Create(FibF, Sub, \"fibx2\", RecurseBB);\n",
        "  CallFibX2->setTailCall();\n",
        "\n",
        "  // fib(x-1)+fib(x-2)\n",
        "  Value *Sum = BinaryOperator::CreateAdd(CallFibX1, CallFibX2,\n",
        "                                         \"addresult\", RecurseBB);\n",
        "\n",
        "  // Create the return instruction and add it to the basic block\n",
        "  ReturnInst::Create(Context, Sum, RecurseBB);\n",
        "\n",
        "  return FibF;\n",
        "}\n",
        "\n",
        "int main(int argc, char **argv) {\n",
        "  int n = argc > 1 ? atol(argv[1]) : 24;\n",
        "\n",
        "  InitializeNativeTarget();\n",
        "  InitializeNativeTargetAsmPrinter();\n",
        "  LLVMContext Context;\n",
        "\n",
        "  // Create some module to put our function into it.\n",
        "  std::unique_ptr<Module> Owner(new Module(\"test\", Context));\n",
        "  Module *M = Owner.get();\n",
        "\n",
        "  // We are about to create the \"fib\" function:\n",
        "  Function *FibF = CreateFibFunction(M, Context);\n",
        "\n",
        "  // Now we going to create JIT\n",
        "  std::string errStr;\n",
        "  ExecutionEngine *EE =\n",
        "    EngineBuilder(std::move(Owner))\n",
        "    .setErrorStr(&errStr)\n",
        "    .create();\n",
        "\n",
        "  if (!EE) {\n",
        "    errs() << argv[0] << \": Failed to construct ExecutionEngine: \" << errStr\n",
        "           << \"\\n\";\n",
        "    return 1;\n",
        "  }\n",
        "\n",
        "  errs() << \"verifying... \";\n",
        "  if (verifyModule(*M)) {\n",
        "    errs() << argv[0] << \": Error constructing function!\\n\";\n",
        "    return 1;\n",
        "  }\n",
        "\n",
        "  errs() << \"OK\\n\";\n",
        "  errs() << \"We just constructed this LLVM module:\\n\\n---------\\n\" << *M;\n",
        "  errs() << \"---------\\nstarting fibonacci(\" << n << \") with JIT...\\n\";\n",
        "\n",
        "  // Call the Fibonacci function with argument n:\n",
        "  std::vector<GenericValue> Args(1);\n",
        "  Args[0].IntVal = APInt(32, n);\n",
        "  GenericValue GV = EE->runFunction(FibF, Args);\n",
        "\n",
        "  // import result of execution\n",
        "  outs() << \"Result: \" << GV.IntVal << \"\\n\";\n",
        "\n",
        "  return 0;\n",
        "}\n"
      ],
      "metadata": {
        "colab": {
          "base_uri": "https://localhost:8080/"
        },
        "id": "OBKKl_MyGZ7F",
        "outputId": "5ef8aa5d-1187-4162-e85e-34341197c498"
      },
      "execution_count": 6,
      "outputs": [
        {
          "output_type": "stream",
          "name": "stdout",
          "text": [
            "Overwriting fibonacci.cpp\n"
          ]
        }
      ]
    },
    {
      "cell_type": "code",
      "execution_count": 7,
      "metadata": {
        "id": "IYJyN7NS3GX7"
      },
      "outputs": [],
      "source": [
        "!clang++ fibonacci.cpp $(llvm-config-15 --cxxflags) -lLLVM-15"
      ]
    },
    {
      "cell_type": "code",
      "execution_count": 8,
      "metadata": {
        "colab": {
          "base_uri": "https://localhost:8080/"
        },
        "id": "WQumzBpM3zcL",
        "outputId": "02e96451-cffe-4c0d-812c-de1afb9576ff"
      },
      "outputs": [
        {
          "output_type": "stream",
          "name": "stdout",
          "text": [
            "verifying... OK\n",
            "We just constructed this LLVM module:\n",
            "\n",
            "---------\n",
            "; ModuleID = 'test'\n",
            "source_filename = \"test\"\n",
            "target datalayout = \"e-m:e-p270:32:32-p271:32:32-p272:64:64-i64:64-f80:128-n8:16:32:64-S128\"\n",
            "\n",
            "define i32 @fib(i32 %AnArg) {\n",
            "EntryBlock:\n",
            "  %cond = icmp sle i32 %AnArg, 2\n",
            "  br i1 %cond, label %return, label %recurse\n",
            "\n",
            "return:                                           ; preds = %EntryBlock\n",
            "  ret i32 1\n",
            "\n",
            "recurse:                                          ; preds = %EntryBlock\n",
            "  %arg = sub i32 %AnArg, 1\n",
            "  %fibx1 = tail call i32 @fib(i32 %arg)\n",
            "  %arg1 = sub i32 %AnArg, 2\n",
            "  %fibx2 = tail call i32 @fib(i32 %arg1)\n",
            "  %addresult = add i32 %fibx1, %fibx2\n",
            "  ret i32 %addresult\n",
            "}\n",
            "---------\n",
            "starting fibonacci(24) with JIT...\n",
            "Result: 46368\n"
          ]
        }
      ],
      "source": [
        "!./a.out"
      ]
    },
    {
      "cell_type": "code",
      "source": [],
      "metadata": {
        "id": "LzDcO77zF1kC"
      },
      "execution_count": 8,
      "outputs": []
    }
  ],
  "metadata": {
    "colab": {
      "provenance": []
    },
    "kernelspec": {
      "display_name": "Python 3",
      "name": "python3"
    },
    "language_info": {
      "name": "python"
    }
  },
  "nbformat": 4,
  "nbformat_minor": 0
}